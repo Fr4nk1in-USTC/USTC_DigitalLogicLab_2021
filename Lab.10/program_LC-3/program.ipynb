{
 "cells": [
  {
   "cell_type": "code",
   "execution_count": 1,
   "metadata": {},
   "outputs": [
    {
     "data": {
      "text/plain": [
       "0"
      ]
     },
     "execution_count": 1,
     "metadata": {},
     "output_type": "execute_result"
    }
   ],
   "source": [
    "import os\n",
    "os.system(\"assembler.exe -s -f D:\\Code\\Digital-Logic-Lab\\Lab.10\\program_LC-3\\code.asm -o D:\\Code\\Digital-Logic-Lab\\Lab.10\\program_LC-3\\output.txt\")"
   ]
  },
  {
   "cell_type": "code",
   "execution_count": 2,
   "metadata": {},
   "outputs": [],
   "source": [
    "code = []\n",
    "with open(\"D:\\Code\\Digital-Logic-Lab\\Lab.10\\program_LC-3\\output.txt\", \"r+\") as fin:\n",
    "    code = fin.readlines()\n",
    "vector = ''\n",
    "for ins in code:\n",
    "    vector = vector + ins[:-1] + ' '\n",
    "vector = vector[:-1] + ';'\n",
    "with open(\"D:\\Code\\Digital-Logic-Lab\\Lab.10\\LC-3\\default_mem.coe\", \"w+\") as fout:\n",
    "    fout.write(\"memory_initialization_radix=16;\\nmemory_initialization_vector=%s\\n\" % vector)\n",
    "    "
   ]
  }
 ],
 "metadata": {
  "interpreter": {
   "hash": "7b4b4feff2f24a0f0a34464dbe537a36fda679851528fb8735cb41fa49dffb2d"
  },
  "kernelspec": {
   "display_name": "Python 3.8.10 64-bit ('base': conda)",
   "language": "python",
   "name": "python3"
  },
  "language_info": {
   "codemirror_mode": {
    "name": "ipython",
    "version": 3
   },
   "file_extension": ".py",
   "mimetype": "text/x-python",
   "name": "python",
   "nbconvert_exporter": "python",
   "pygments_lexer": "ipython3",
   "version": "3.8.10"
  },
  "orig_nbformat": 4
 },
 "nbformat": 4,
 "nbformat_minor": 2
}
